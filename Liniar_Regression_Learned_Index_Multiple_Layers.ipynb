{
  "nbformat": 4,
  "nbformat_minor": 0,
  "metadata": {
    "colab": {
      "name": "Liniar Regression Learned Index Multiple Layers.ipynb",
      "version": "0.3.2",
      "provenance": [],
      "collapsed_sections": [],
      "include_colab_link": true
    },
    "kernelspec": {
      "name": "python3",
      "display_name": "Python 3"
    }
  },
  "cells": [
    {
      "cell_type": "markdown",
      "metadata": {
        "id": "view-in-github",
        "colab_type": "text"
      },
      "source": [
        "<a href=\"https://colab.research.google.com/github/Ceachi/Liniar-Regression-Learned-Index./blob/master/Liniar_Regression_Learned_Index_Multiple_Layers.ipynb\" target=\"_parent\"><img src=\"https://colab.research.google.com/assets/colab-badge.svg\" alt=\"Open In Colab\"/></a>"
      ]
    },
    {
      "metadata": {
        "id": "SRJLvxx-B9Gj",
        "colab_type": "code",
        "colab": {}
      },
      "cell_type": "code",
      "source": [
        "import numpy as np\n",
        "import tensorflow as tf\n",
        "from tensorflow import keras\n",
        "from tensorflow.keras import layers"
      ],
      "execution_count": 0,
      "outputs": []
    },
    {
      "metadata": {
        "id": "x6G8raUvA3DH",
        "colab_type": "code",
        "colab": {}
      },
      "cell_type": "code",
      "source": [
        "# Data set Parameters\n",
        "minArrayNumber = 1\n",
        "maxArrayNumber = 600\n",
        "arrayDimension = 500"
      ],
      "execution_count": 0,
      "outputs": []
    },
    {
      "metadata": {
        "id": "1gtySy1y6BtR",
        "colab_type": "code",
        "outputId": "b6e93e51-468e-4798-a8a8-4f12410a4b57",
        "colab": {
          "base_uri": "https://localhost:8080/",
          "height": 835
        }
      },
      "cell_type": "code",
      "source": [
        "# Here we generate 2 arrays\n",
        "# train_X = is the sorted array (reprezentation of the records)\n",
        "# train_Y = for each element in vector XX, \n",
        "            #in this vector we will determine the page number\n",
        "            # we assume that a page_size have 4 elements\n",
        "\n",
        "# Creating the dataSet\n",
        "#np.random.seed(0)\n",
        "train_X = np.array([])\n",
        "train_Y = np.array([])\n",
        "j=0\n",
        "label=1\n",
        "# Generate the data and labels\n",
        "for i in range(arrayDimension):\n",
        "          randomNumber = np.random.randint(low=minArrayNumber, \n",
        "                                           high=maxArrayNumber, \n",
        "                                           size=1)\n",
        "          #randomNumber = np.random.uniform(size=1)\n",
        "          if randomNumber not in train_X: \n",
        "            train_X = np.append(train_X, randomNumber)\n",
        "            train_Y = np.append(train_Y, label)\n",
        "            j+=1\n",
        "            if(j%page_size==0):\n",
        "              label+=1\n",
        "              j=0\n",
        "train_X.sort()\n",
        "\n",
        "n_samples = train_X.shape[0]\n",
        "# Print the data and labels\n",
        "print(train_X)  \n",
        "print(train_Y)"
      ],
      "execution_count": 136,
      "outputs": [
        {
          "output_type": "stream",
          "text": [
            "[  2.   8.  12.  13.  15.  16.  17.  18.  19.  20.  21.  22.  23.  24.\n",
            "  25.  28.  29.  30.  31.  33.  35.  39.  41.  42.  43.  44.  46.  52.\n",
            "  55.  56.  58.  60.  61.  62.  63.  66.  68.  70.  72.  73.  74.  77.\n",
            "  78.  81.  83.  87.  88.  89.  90.  91.  94.  95.  96.  97.  98.  99.\n",
            " 100. 101. 102. 105. 110. 111. 112. 113. 115. 116. 117. 118. 120. 121.\n",
            " 122. 125. 127. 131. 132. 134. 136. 138. 139. 140. 141. 142. 143. 144.\n",
            " 145. 146. 147. 148. 153. 154. 155. 156. 157. 158. 159. 161. 162. 163.\n",
            " 166. 167. 168. 169. 172. 174. 175. 180. 181. 185. 187. 189. 191. 192.\n",
            " 193. 195. 198. 201. 202. 205. 206. 208. 211. 213. 215. 216. 217. 218.\n",
            " 219. 220. 227. 228. 229. 237. 239. 243. 245. 246. 248. 249. 251. 254.\n",
            " 258. 260. 262. 263. 266. 269. 270. 271. 273. 274. 276. 280. 281. 282.\n",
            " 285. 286. 287. 288. 289. 292. 293. 294. 296. 297. 298. 300. 301. 302.\n",
            " 303. 304. 305. 306. 307. 309. 312. 315. 316. 317. 318. 320. 321. 322.\n",
            " 326. 329. 331. 333. 334. 335. 336. 337. 339. 340. 341. 342. 343. 344.\n",
            " 345. 349. 352. 354. 356. 358. 361. 362. 368. 369. 370. 375. 377. 378.\n",
            " 379. 380. 382. 384. 386. 387. 389. 390. 391. 393. 394. 395. 396. 397.\n",
            " 399. 401. 404. 405. 412. 413. 417. 423. 425. 427. 428. 430. 431. 433.\n",
            " 434. 435. 436. 437. 438. 439. 441. 443. 444. 445. 447. 448. 449. 450.\n",
            " 452. 453. 454. 455. 456. 457. 459. 460. 461. 463. 465. 467. 469. 470.\n",
            " 471. 472. 477. 478. 481. 482. 485. 487. 488. 489. 490. 492. 493. 494.\n",
            " 495. 496. 499. 500. 503. 505. 507. 508. 509. 511. 512. 513. 514. 515.\n",
            " 516. 518. 520. 521. 523. 524. 525. 526. 527. 530. 531. 532. 533. 534.\n",
            " 535. 536. 539. 540. 547. 548. 549. 551. 552. 553. 554. 556. 557. 559.\n",
            " 560. 561. 564. 565. 567. 577. 580. 581. 582. 584. 585. 588. 590. 591.\n",
            " 592. 593. 596. 597.]\n",
            "[ 1.  1.  1.  1.  2.  2.  2.  2.  3.  3.  3.  3.  4.  4.  4.  4.  5.  5.\n",
            "  5.  5.  6.  6.  6.  6.  7.  7.  7.  7.  8.  8.  8.  8.  9.  9.  9.  9.\n",
            " 10. 10. 10. 10. 11. 11. 11. 11. 12. 12. 12. 12. 13. 13. 13. 13. 14. 14.\n",
            " 14. 14. 15. 15. 15. 15. 16. 16. 16. 16. 17. 17. 17. 17. 18. 18. 18. 18.\n",
            " 19. 19. 19. 19. 20. 20. 20. 20. 21. 21. 21. 21. 22. 22. 22. 22. 23. 23.\n",
            " 23. 23. 24. 24. 24. 24. 25. 25. 25. 25. 26. 26. 26. 26. 27. 27. 27. 27.\n",
            " 28. 28. 28. 28. 29. 29. 29. 29. 30. 30. 30. 30. 31. 31. 31. 31. 32. 32.\n",
            " 32. 32. 33. 33. 33. 33. 34. 34. 34. 34. 35. 35. 35. 35. 36. 36. 36. 36.\n",
            " 37. 37. 37. 37. 38. 38. 38. 38. 39. 39. 39. 39. 40. 40. 40. 40. 41. 41.\n",
            " 41. 41. 42. 42. 42. 42. 43. 43. 43. 43. 44. 44. 44. 44. 45. 45. 45. 45.\n",
            " 46. 46. 46. 46. 47. 47. 47. 47. 48. 48. 48. 48. 49. 49. 49. 49. 50. 50.\n",
            " 50. 50. 51. 51. 51. 51. 52. 52. 52. 52. 53. 53. 53. 53. 54. 54. 54. 54.\n",
            " 55. 55. 55. 55. 56. 56. 56. 56. 57. 57. 57. 57. 58. 58. 58. 58. 59. 59.\n",
            " 59. 59. 60. 60. 60. 60. 61. 61. 61. 61. 62. 62. 62. 62. 63. 63. 63. 63.\n",
            " 64. 64. 64. 64. 65. 65. 65. 65. 66. 66. 66. 66. 67. 67. 67. 67. 68. 68.\n",
            " 68. 68. 69. 69. 69. 69. 70. 70. 70. 70. 71. 71. 71. 71. 72. 72. 72. 72.\n",
            " 73. 73. 73. 73. 74. 74. 74. 74. 75. 75. 75. 75. 76. 76. 76. 76. 77. 77.\n",
            " 77. 77. 78. 78. 78. 78. 79. 79. 79. 79. 80. 80. 80. 80. 81. 81. 81. 81.\n",
            " 82. 82. 82. 82. 83. 83. 83. 83. 84. 84. 84. 84. 85. 85. 85. 85.]\n"
          ],
          "name": "stdout"
        }
      ]
    },
    {
      "metadata": {
        "id": "6Cr9qLa56AdV",
        "colab_type": "code",
        "colab": {}
      },
      "cell_type": "code",
      "source": [
        "def build_model():\n",
        "  model = keras.Sequential([\n",
        "    layers.Dense(64, activation=tf.nn.relu, input_shape=[1]),\n",
        "    layers.Dense(64, activation=tf.nn.relu),\n",
        "    layers.Dense(1)\n",
        "  ])\n",
        "\n",
        "  optimizer = tf.train.RMSPropOptimizer(0.001)\n",
        "\n",
        "  model.compile(loss='mse',\n",
        "                optimizer=optimizer,\n",
        "                metrics=['mae', 'mse'])\n",
        "  return model"
      ],
      "execution_count": 0,
      "outputs": []
    },
    {
      "metadata": {
        "id": "9LZ8Dnfg7Vls",
        "colab_type": "code",
        "colab": {}
      },
      "cell_type": "code",
      "source": [
        "EPOCHS = 1000\n",
        "\n",
        "history = model.fit(\n",
        "  train_X, train_Y,\n",
        "  epochs=EPOCHS, validation_split = 0.2, verbose=0)"
      ],
      "execution_count": 0,
      "outputs": []
    },
    {
      "metadata": {
        "id": "uwq1B86ZAHBE",
        "colab_type": "code",
        "colab": {}
      },
      "cell_type": "code",
      "source": [
        "def binarySearch(arr, l, r, x):\n",
        "  if r >= l:\n",
        "    mid = int(l + (r - l) / 2)\n",
        "  if arr[mid] == x:\n",
        "    return mid\n",
        "  elif arr[mid] > x:\n",
        "    return binarySearch(arr, l, mid - 1, x)\n",
        "  else:\n",
        "    return binarySearch(arr, mid + 1, r, x)\n",
        "  return -1"
      ],
      "execution_count": 0,
      "outputs": []
    },
    {
      "metadata": {
        "id": "Hmc2UpSW9cb7",
        "colab_type": "code",
        "colab": {
          "base_uri": "https://localhost:8080/",
          "height": 54
        },
        "outputId": "49185e64-193d-4f56-879a-8445a4e413e6"
      },
      "cell_type": "code",
      "source": [
        "key = 12\n",
        "page_size = 4\n",
        "pageNumber = int(round(model.predict([key])[0][0]))\n",
        "print(\"The key:\", key, \"is at position:\", pageNumber)\n",
        "starting_point = (pageNumber - 1) * page_size\n",
        "ending_point = starting_point + (page_size - 1)\n",
        "left = int(starting_point)\n",
        "right = int(ending_point)\n",
        "print(\"the pozition of the key \",key,\" is \",binarySearch(train_X,left,right,key))"
      ],
      "execution_count": 140,
      "outputs": [
        {
          "output_type": "stream",
          "text": [
            "The key: 12 is at position: 1\n",
            "the pozition of the key  12  is  2\n"
          ],
          "name": "stdout"
        }
      ]
    },
    {
      "metadata": {
        "id": "tpgSNeyU-d5Q",
        "colab_type": "code",
        "colab": {}
      },
      "cell_type": "code",
      "source": [
        ""
      ],
      "execution_count": 0,
      "outputs": []
    }
  ]
}