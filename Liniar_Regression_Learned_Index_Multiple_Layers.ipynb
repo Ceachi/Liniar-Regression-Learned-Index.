{
  "nbformat": 4,
  "nbformat_minor": 0,
  "metadata": {
    "colab": {
      "name": "Liniar Regression Learned Index Multiple Layers.ipynb",
      "version": "0.3.2",
      "provenance": [],
      "collapsed_sections": [],
      "include_colab_link": true
    },
    "kernelspec": {
      "name": "python3",
      "display_name": "Python 3"
    }
  },
  "cells": [
    {
      "cell_type": "markdown",
      "metadata": {
        "id": "view-in-github",
        "colab_type": "text"
      },
      "source": [
        "<a href=\"https://colab.research.google.com/github/Ceachi/Liniar-Regression-Learned-Index./blob/master/Liniar_Regression_Learned_Index_Multiple_Layers.ipynb\" target=\"_parent\"><img src=\"https://colab.research.google.com/assets/colab-badge.svg\" alt=\"Open In Colab\"/></a>"
      ]
    },
    {
      "metadata": {
        "id": "SRJLvxx-B9Gj",
        "colab_type": "code",
        "colab": {}
      },
      "cell_type": "code",
      "source": [
        "import numpy as np\n",
        "import tensorflow as tf\n",
        "from tensorflow import keras\n",
        "from tensorflow.keras import layers"
      ],
      "execution_count": 0,
      "outputs": []
    },
    {
      "metadata": {
        "id": "x6G8raUvA3DH",
        "colab_type": "code",
        "colab": {}
      },
      "cell_type": "code",
      "source": [
        "# Data set Parameters\n",
        "minArrayNumber = 1\n",
        "maxArrayNumber = 600\n",
        "arrayDimension = 500"
      ],
      "execution_count": 0,
      "outputs": []
    },
    {
      "metadata": {
        "id": "1gtySy1y6BtR",
        "colab_type": "code",
        "outputId": "d52ed5d5-6287-4c73-b9c3-da7abf858227",
        "colab": {
          "base_uri": "https://localhost:8080/",
          "height": 854
        }
      },
      "cell_type": "code",
      "source": [
        "# Here we generate 2 arrays\n",
        "# train_X = is the sorted array (reprezentation of the records)\n",
        "# train_Y = for each element in vector XX, \n",
        "            #in this vector we will determine the page number\n",
        "            # we assume that a page_size have 4 elements\n",
        "\n",
        "# Creating the dataSet\n",
        "#np.random.seed(0)\n",
        "train_X = np.array([])\n",
        "train_Y = np.array([])\n",
        "j=0\n",
        "label=1\n",
        "# Generate the data and labels\n",
        "for i in range(arrayDimension):\n",
        "          randomNumber = np.random.randint(low=minArrayNumber, \n",
        "                                           high=maxArrayNumber, \n",
        "                                           size=1)\n",
        "          #randomNumber = np.random.uniform(size=1)\n",
        "          if randomNumber not in train_X: \n",
        "            train_X = np.append(train_X, randomNumber)\n",
        "            train_Y = np.append(train_Y, label)\n",
        "            j+=1\n",
        "            if(j%page_size==0):\n",
        "              label+=1\n",
        "              j=0\n",
        "train_X.sort()\n",
        "\n",
        "n_samples = train_X.shape[0]\n",
        "# Print the data and labels\n",
        "print(train_X)  \n",
        "print(train_Y)"
      ],
      "execution_count": 112,
      "outputs": [
        {
          "output_type": "stream",
          "text": [
            "[  1.   2.   4.   5.   7.   8.  10.  17.  18.  25.  27.  28.  29.  30.\n",
            "  32.  33.  36.  37.  39.  40.  41.  43.  45.  46.  47.  48.  50.  51.\n",
            "  52.  53.  55.  56.  58.  59.  62.  63.  64.  66.  67.  68.  70.  73.\n",
            "  76.  77.  78.  79.  84.  85.  86.  87.  88.  89.  90.  91.  94.  99.\n",
            " 104. 111. 113. 114. 116. 117. 121. 122. 123. 125. 127. 128. 130. 132.\n",
            " 135. 138. 140. 144. 145. 146. 147. 148. 149. 150. 154. 156. 157. 159.\n",
            " 161. 162. 163. 165. 167. 168. 170. 171. 172. 173. 174. 175. 178. 179.\n",
            " 180. 181. 185. 187. 189. 190. 191. 192. 193. 195. 196. 198. 199. 200.\n",
            " 203. 204. 205. 206. 207. 208. 209. 210. 213. 215. 216. 217. 218. 219.\n",
            " 222. 224. 225. 226. 227. 229. 230. 234. 235. 236. 237. 238. 241. 242.\n",
            " 243. 246. 247. 248. 250. 251. 253. 257. 258. 260. 261. 262. 266. 267.\n",
            " 269. 270. 272. 273. 275. 276. 278. 279. 280. 281. 282. 283. 284. 286.\n",
            " 290. 294. 295. 297. 298. 299. 300. 301. 303. 304. 306. 309. 310. 314.\n",
            " 315. 318. 319. 320. 321. 322. 324. 325. 326. 328. 329. 331. 333. 334.\n",
            " 335. 337. 338. 339. 340. 344. 346. 347. 349. 350. 352. 355. 356. 359.\n",
            " 360. 361. 362. 363. 364. 365. 366. 367. 368. 369. 372. 375. 376. 384.\n",
            " 385. 386. 388. 390. 393. 394. 395. 397. 399. 400. 401. 402. 404. 408.\n",
            " 410. 411. 412. 413. 415. 417. 421. 422. 423. 425. 426. 427. 428. 431.\n",
            " 432. 435. 436. 439. 440. 443. 445. 446. 447. 452. 454. 455. 457. 458.\n",
            " 459. 460. 461. 463. 464. 465. 468. 469. 471. 472. 473. 474. 475. 476.\n",
            " 477. 478. 479. 480. 482. 484. 485. 486. 487. 488. 490. 491. 495. 496.\n",
            " 501. 502. 503. 506. 507. 508. 510. 514. 520. 521. 525. 526. 527. 528.\n",
            " 529. 533. 535. 537. 541. 544. 547. 548. 550. 553. 554. 555. 558. 562.\n",
            " 563. 564. 565. 566. 567. 569. 570. 572. 573. 574. 575. 576. 577. 578.\n",
            " 579. 580. 584. 585. 587. 588. 589. 590. 595. 597. 598.]\n",
            "[ 1.  1.  1.  1.  2.  2.  2.  2.  3.  3.  3.  3.  4.  4.  4.  4.  5.  5.\n",
            "  5.  5.  6.  6.  6.  6.  7.  7.  7.  7.  8.  8.  8.  8.  9.  9.  9.  9.\n",
            " 10. 10. 10. 10. 11. 11. 11. 11. 12. 12. 12. 12. 13. 13. 13. 13. 14. 14.\n",
            " 14. 14. 15. 15. 15. 15. 16. 16. 16. 16. 17. 17. 17. 17. 18. 18. 18. 18.\n",
            " 19. 19. 19. 19. 20. 20. 20. 20. 21. 21. 21. 21. 22. 22. 22. 22. 23. 23.\n",
            " 23. 23. 24. 24. 24. 24. 25. 25. 25. 25. 26. 26. 26. 26. 27. 27. 27. 27.\n",
            " 28. 28. 28. 28. 29. 29. 29. 29. 30. 30. 30. 30. 31. 31. 31. 31. 32. 32.\n",
            " 32. 32. 33. 33. 33. 33. 34. 34. 34. 34. 35. 35. 35. 35. 36. 36. 36. 36.\n",
            " 37. 37. 37. 37. 38. 38. 38. 38. 39. 39. 39. 39. 40. 40. 40. 40. 41. 41.\n",
            " 41. 41. 42. 42. 42. 42. 43. 43. 43. 43. 44. 44. 44. 44. 45. 45. 45. 45.\n",
            " 46. 46. 46. 46. 47. 47. 47. 47. 48. 48. 48. 48. 49. 49. 49. 49. 50. 50.\n",
            " 50. 50. 51. 51. 51. 51. 52. 52. 52. 52. 53. 53. 53. 53. 54. 54. 54. 54.\n",
            " 55. 55. 55. 55. 56. 56. 56. 56. 57. 57. 57. 57. 58. 58. 58. 58. 59. 59.\n",
            " 59. 59. 60. 60. 60. 60. 61. 61. 61. 61. 62. 62. 62. 62. 63. 63. 63. 63.\n",
            " 64. 64. 64. 64. 65. 65. 65. 65. 66. 66. 66. 66. 67. 67. 67. 67. 68. 68.\n",
            " 68. 68. 69. 69. 69. 69. 70. 70. 70. 70. 71. 71. 71. 71. 72. 72. 72. 72.\n",
            " 73. 73. 73. 73. 74. 74. 74. 74. 75. 75. 75. 75. 76. 76. 76. 76. 77. 77.\n",
            " 77. 77. 78. 78. 78. 78. 79. 79. 79. 79. 80. 80. 80. 80. 81. 81. 81. 81.\n",
            " 82. 82. 82. 82. 83. 83. 83. 83. 84. 84. 84. 84. 85. 85. 85. 85. 86. 86.\n",
            " 86. 86. 87. 87. 87.]\n"
          ],
          "name": "stdout"
        }
      ]
    },
    {
      "metadata": {
        "id": "6Cr9qLa56AdV",
        "colab_type": "code",
        "colab": {}
      },
      "cell_type": "code",
      "source": [
        "def build_model():\n",
        "  model = keras.Sequential([\n",
        "    layers.Dense(64, activation=tf.nn.relu, input_shape=[1]),\n",
        "    layers.Dense(64, activation=tf.nn.relu),\n",
        "    layers.Dense(1)\n",
        "  ])\n",
        "\n",
        "  optimizer = tf.train.RMSPropOptimizer(0.001)\n",
        "\n",
        "  model.compile(loss='mse',\n",
        "                optimizer=optimizer,\n",
        "                metrics=['mae', 'mse'])\n",
        "  return model"
      ],
      "execution_count": 0,
      "outputs": []
    },
    {
      "metadata": {
        "id": "9LZ8Dnfg7Vls",
        "colab_type": "code",
        "colab": {}
      },
      "cell_type": "code",
      "source": [
        "EPOCHS = 1000\n",
        "\n",
        "history = model.fit(\n",
        "  train_X, train_Y,\n",
        "  epochs=EPOCHS, validation_split = 0.2, verbose=0)"
      ],
      "execution_count": 0,
      "outputs": []
    },
    {
      "metadata": {
        "id": "uwq1B86ZAHBE",
        "colab_type": "code",
        "colab": {}
      },
      "cell_type": "code",
      "source": [
        "def binarySearch(arr, l, r, x):\n",
        "  if r >= l:\n",
        "    mid = int(l + (r - l) / 2)\n",
        "  if arr[mid] == x:\n",
        "    return mid\n",
        "  elif arr[mid] > x:\n",
        "    return binarySearch(arr, l, mid - 1, x)\n",
        "  else:\n",
        "    return binarySearch(arr, mid + 1, r, x)\n",
        "  return -1"
      ],
      "execution_count": 0,
      "outputs": []
    },
    {
      "metadata": {
        "id": "Hmc2UpSW9cb7",
        "colab_type": "code",
        "colab": {
          "base_uri": "https://localhost:8080/",
          "height": 601
        },
        "outputId": "09a58dba-ecf5-4276-b858-14354fc88ccc"
      },
      "cell_type": "code",
      "source": [
        "key = 6\n",
        "page_size = 4\n",
        "pageNumber = int(round(model.predict([key])[0][0]))\n",
        "print(\"The key:\", key, \"is at position:\", pageNumber)\n",
        "starting_point = (pageNumber - 1) * page_size\n",
        "ending_point = starting_point + (page_size - 1)\n",
        "left = int(starting_point)\n",
        "right = int(ending_point)\n",
        "print(\"the pozition of the key \",key,\" is \",binarySearch(train_X,left,right,key))"
      ],
      "execution_count": 109,
      "outputs": [
        {
          "output_type": "stream",
          "text": [
            "The key: 6 is at position: 2\n"
          ],
          "name": "stdout"
        },
        {
          "output_type": "error",
          "ename": "UnboundLocalError",
          "evalue": "ignored",
          "traceback": [
            "\u001b[0;31m---------------------------------------------------------------------------\u001b[0m",
            "\u001b[0;31mUnboundLocalError\u001b[0m                         Traceback (most recent call last)",
            "\u001b[0;32m<ipython-input-109-921a3dc485ad>\u001b[0m in \u001b[0;36m<module>\u001b[0;34m()\u001b[0m\n\u001b[1;32m      7\u001b[0m \u001b[0mleft\u001b[0m \u001b[0;34m=\u001b[0m \u001b[0mint\u001b[0m\u001b[0;34m(\u001b[0m\u001b[0mstarting_point\u001b[0m\u001b[0;34m)\u001b[0m\u001b[0;34m\u001b[0m\u001b[0;34m\u001b[0m\u001b[0m\n\u001b[1;32m      8\u001b[0m \u001b[0mright\u001b[0m \u001b[0;34m=\u001b[0m \u001b[0mint\u001b[0m\u001b[0;34m(\u001b[0m\u001b[0mending_point\u001b[0m\u001b[0;34m)\u001b[0m\u001b[0;34m\u001b[0m\u001b[0;34m\u001b[0m\u001b[0m\n\u001b[0;32m----> 9\u001b[0;31m \u001b[0mprint\u001b[0m\u001b[0;34m(\u001b[0m\u001b[0;34m\"the pozition of the key \"\u001b[0m\u001b[0;34m,\u001b[0m\u001b[0mkey\u001b[0m\u001b[0;34m,\u001b[0m\u001b[0;34m\" is \"\u001b[0m\u001b[0;34m,\u001b[0m\u001b[0mbinarySearch\u001b[0m\u001b[0;34m(\u001b[0m\u001b[0mtrain_X\u001b[0m\u001b[0;34m,\u001b[0m\u001b[0mleft\u001b[0m\u001b[0;34m,\u001b[0m\u001b[0mright\u001b[0m\u001b[0;34m,\u001b[0m\u001b[0mkey\u001b[0m\u001b[0;34m)\u001b[0m\u001b[0;34m)\u001b[0m\u001b[0;34m\u001b[0m\u001b[0;34m\u001b[0m\u001b[0m\n\u001b[0m",
            "\u001b[0;32m<ipython-input-108-eadc12e5f2b1>\u001b[0m in \u001b[0;36mbinarySearch\u001b[0;34m(arr, l, r, x)\u001b[0m\n\u001b[1;32m      5\u001b[0m     \u001b[0;32mreturn\u001b[0m \u001b[0mmid\u001b[0m\u001b[0;34m\u001b[0m\u001b[0;34m\u001b[0m\u001b[0m\n\u001b[1;32m      6\u001b[0m   \u001b[0;32melif\u001b[0m \u001b[0marr\u001b[0m\u001b[0;34m[\u001b[0m\u001b[0mmid\u001b[0m\u001b[0;34m]\u001b[0m \u001b[0;34m>\u001b[0m \u001b[0mx\u001b[0m\u001b[0;34m:\u001b[0m\u001b[0;34m\u001b[0m\u001b[0;34m\u001b[0m\u001b[0m\n\u001b[0;32m----> 7\u001b[0;31m     \u001b[0;32mreturn\u001b[0m \u001b[0mbinarySearch\u001b[0m\u001b[0;34m(\u001b[0m\u001b[0marr\u001b[0m\u001b[0;34m,\u001b[0m \u001b[0ml\u001b[0m\u001b[0;34m,\u001b[0m \u001b[0mmid\u001b[0m \u001b[0;34m-\u001b[0m \u001b[0;36m1\u001b[0m\u001b[0;34m,\u001b[0m \u001b[0mx\u001b[0m\u001b[0;34m)\u001b[0m\u001b[0;34m\u001b[0m\u001b[0;34m\u001b[0m\u001b[0m\n\u001b[0m\u001b[1;32m      8\u001b[0m   \u001b[0;32melse\u001b[0m\u001b[0;34m:\u001b[0m\u001b[0;34m\u001b[0m\u001b[0;34m\u001b[0m\u001b[0m\n\u001b[1;32m      9\u001b[0m     \u001b[0;32mreturn\u001b[0m \u001b[0mbinarySearch\u001b[0m\u001b[0;34m(\u001b[0m\u001b[0marr\u001b[0m\u001b[0;34m,\u001b[0m \u001b[0mmid\u001b[0m \u001b[0;34m+\u001b[0m \u001b[0;36m1\u001b[0m\u001b[0;34m,\u001b[0m \u001b[0mr\u001b[0m\u001b[0;34m,\u001b[0m \u001b[0mx\u001b[0m\u001b[0;34m)\u001b[0m\u001b[0;34m\u001b[0m\u001b[0;34m\u001b[0m\u001b[0m\n",
            "\u001b[0;32m<ipython-input-108-eadc12e5f2b1>\u001b[0m in \u001b[0;36mbinarySearch\u001b[0;34m(arr, l, r, x)\u001b[0m\n\u001b[1;32m      7\u001b[0m     \u001b[0;32mreturn\u001b[0m \u001b[0mbinarySearch\u001b[0m\u001b[0;34m(\u001b[0m\u001b[0marr\u001b[0m\u001b[0;34m,\u001b[0m \u001b[0ml\u001b[0m\u001b[0;34m,\u001b[0m \u001b[0mmid\u001b[0m \u001b[0;34m-\u001b[0m \u001b[0;36m1\u001b[0m\u001b[0;34m,\u001b[0m \u001b[0mx\u001b[0m\u001b[0;34m)\u001b[0m\u001b[0;34m\u001b[0m\u001b[0;34m\u001b[0m\u001b[0m\n\u001b[1;32m      8\u001b[0m   \u001b[0;32melse\u001b[0m\u001b[0;34m:\u001b[0m\u001b[0;34m\u001b[0m\u001b[0;34m\u001b[0m\u001b[0m\n\u001b[0;32m----> 9\u001b[0;31m     \u001b[0;32mreturn\u001b[0m \u001b[0mbinarySearch\u001b[0m\u001b[0;34m(\u001b[0m\u001b[0marr\u001b[0m\u001b[0;34m,\u001b[0m \u001b[0mmid\u001b[0m \u001b[0;34m+\u001b[0m \u001b[0;36m1\u001b[0m\u001b[0;34m,\u001b[0m \u001b[0mr\u001b[0m\u001b[0;34m,\u001b[0m \u001b[0mx\u001b[0m\u001b[0;34m)\u001b[0m\u001b[0;34m\u001b[0m\u001b[0;34m\u001b[0m\u001b[0m\n\u001b[0m\u001b[1;32m     10\u001b[0m   \u001b[0;32mreturn\u001b[0m \u001b[0;34m-\u001b[0m\u001b[0;36m1\u001b[0m\u001b[0;34m\u001b[0m\u001b[0;34m\u001b[0m\u001b[0m\n",
            "\u001b[0;32m<ipython-input-108-eadc12e5f2b1>\u001b[0m in \u001b[0;36mbinarySearch\u001b[0;34m(arr, l, r, x)\u001b[0m\n\u001b[1;32m      2\u001b[0m   \u001b[0;32mif\u001b[0m \u001b[0mr\u001b[0m \u001b[0;34m>=\u001b[0m \u001b[0ml\u001b[0m\u001b[0;34m:\u001b[0m\u001b[0;34m\u001b[0m\u001b[0;34m\u001b[0m\u001b[0m\n\u001b[1;32m      3\u001b[0m     \u001b[0mmid\u001b[0m \u001b[0;34m=\u001b[0m \u001b[0mint\u001b[0m\u001b[0;34m(\u001b[0m\u001b[0ml\u001b[0m \u001b[0;34m+\u001b[0m \u001b[0;34m(\u001b[0m\u001b[0mr\u001b[0m \u001b[0;34m-\u001b[0m \u001b[0ml\u001b[0m\u001b[0;34m)\u001b[0m \u001b[0;34m/\u001b[0m \u001b[0;36m2\u001b[0m\u001b[0;34m)\u001b[0m\u001b[0;34m\u001b[0m\u001b[0;34m\u001b[0m\u001b[0m\n\u001b[0;32m----> 4\u001b[0;31m   \u001b[0;32mif\u001b[0m \u001b[0marr\u001b[0m\u001b[0;34m[\u001b[0m\u001b[0mmid\u001b[0m\u001b[0;34m]\u001b[0m \u001b[0;34m==\u001b[0m \u001b[0mx\u001b[0m\u001b[0;34m:\u001b[0m\u001b[0;34m\u001b[0m\u001b[0;34m\u001b[0m\u001b[0m\n\u001b[0m\u001b[1;32m      5\u001b[0m     \u001b[0;32mreturn\u001b[0m \u001b[0mmid\u001b[0m\u001b[0;34m\u001b[0m\u001b[0;34m\u001b[0m\u001b[0m\n\u001b[1;32m      6\u001b[0m   \u001b[0;32melif\u001b[0m \u001b[0marr\u001b[0m\u001b[0;34m[\u001b[0m\u001b[0mmid\u001b[0m\u001b[0;34m]\u001b[0m \u001b[0;34m>\u001b[0m \u001b[0mx\u001b[0m\u001b[0;34m:\u001b[0m\u001b[0;34m\u001b[0m\u001b[0;34m\u001b[0m\u001b[0m\n",
            "\u001b[0;31mUnboundLocalError\u001b[0m: local variable 'mid' referenced before assignment"
          ]
        }
      ]
    },
    {
      "metadata": {
        "id": "tpgSNeyU-d5Q",
        "colab_type": "code",
        "colab": {}
      },
      "cell_type": "code",
      "source": [
        ""
      ],
      "execution_count": 0,
      "outputs": []
    }
  ]
}